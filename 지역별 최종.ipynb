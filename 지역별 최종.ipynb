{
 "cells": [
  {
   "cell_type": "code",
   "execution_count": 16,
   "id": "e725ed2b",
   "metadata": {},
   "outputs": [],
   "source": [
    "from selenium import webdriver\n",
    "\n",
    "driver = webdriver.Chrome('C:/playwithdata/chromedriver.exe')"
   ]
  },
  {
   "cell_type": "code",
   "execution_count": 17,
   "id": "68019eb9",
   "metadata": {},
   "outputs": [],
   "source": [
    "url = 'https://search.naver.com/search.naver?where=nexearch&sm=top_hty&fbm=1&ie=utf8&query=%EC%BD%94%EB%A1%9C%EB%82%98+%ED%98%84%ED%99%A9'\n",
    "driver.get(url)"
   ]
  },
  {
   "cell_type": "code",
   "execution_count": 18,
   "id": "0e4a39c2",
   "metadata": {},
   "outputs": [],
   "source": [
    "from bs4 import BeautifulSoup"
   ]
  },
  {
   "cell_type": "code",
   "execution_count": 19,
   "id": "9c6a17f0",
   "metadata": {},
   "outputs": [],
   "source": [
    "data = driver.find_elements_by_css_selector('div > div:nth-child(4) > div > div.info_top > div > div > div > ul > li:nth-child(2) > a > span')\n",
    "\n",
    "data[0].click()"
   ]
  },
  {
   "cell_type": "code",
   "execution_count": 20,
   "id": "cc356f7c",
   "metadata": {},
   "outputs": [],
   "source": [
    "html1 = driver.page_source\n",
    "soup1 = BeautifulSoup(html1,'html.parser')"
   ]
  },
  {
   "cell_type": "code",
   "execution_count": 21,
   "id": "d0eac6c8",
   "metadata": {},
   "outputs": [],
   "source": [
    "#data1 = soup1.select('div.type_basic._table > table.table > tbody')\n",
    "\n",
    "data1 = soup1.select('#_cs_production_type > div > div:nth-child(4) > div > div:nth-child(3) > div:nth-child(1) > div > table > tbody')"
   ]
  },
  {
   "cell_type": "code",
   "execution_count": null,
   "id": "c503276e",
   "metadata": {},
   "outputs": [],
   "source": [
    "data1[0].select('a')\n",
    "\n",
    "data1[0].select('a')[\n",
    "\n",
    "data1[0].select('span')\n",
    "\n",
    "data1[0].select('span')[3].text.strip()"
   ]
  },
  {
   "cell_type": "code",
   "execution_count": 22,
   "id": "b68a4032",
   "metadata": {},
   "outputs": [],
   "source": [
    "name = []\n",
    "city_total = []\n",
    "city_new = []"
   ]
  },
  {
   "cell_type": "code",
   "execution_count": 23,
   "id": "4cf72d9d",
   "metadata": {},
   "outputs": [],
   "source": [
    "for data in data1 : \n",
    "    for i, a in enumerate(data.select('span')):\n",
    "        if i % 3 == 0:\n",
    "            name.append(a.text.strip())\n",
    "        elif i % 3 == 1 : \n",
    "            city_total.append(a.text.strip())\n",
    "        elif i % 3 == 2 : \n",
    "            city_new.append(a.text.strip())\n",
    "        "
   ]
  },
  {
   "cell_type": "code",
   "execution_count": 24,
   "id": "c9cf5c90",
   "metadata": {},
   "outputs": [
    {
     "name": "stdout",
     "output_type": "stream",
     "text": [
      "['서울', '경기', '대구', '인천', '부산', '경남', '경북', '충남']\n",
      "['76,245', '68,158', '13,192', '11,305', '10,999', '9,615', '6,802', '6,547']\n",
      "['675', '586', '101', '120', '86', '104', '71', '76']\n"
     ]
    }
   ],
   "source": [
    "print(name)\n",
    "print(city_total)\n",
    "print(city_new)"
   ]
  },
  {
   "cell_type": "code",
   "execution_count": 25,
   "id": "de1e6db1",
   "metadata": {},
   "outputs": [],
   "source": [
    "data2 = driver.find_elements_by_css_selector('div > div:nth-child(4) > div > div:nth-child(3) > div.csp_paging_area._page_root > div > div > a.csp_pg_next._next.on')\n",
    "\n",
    "data2[0].click()"
   ]
  },
  {
   "cell_type": "code",
   "execution_count": 26,
   "id": "1a70abf7",
   "metadata": {},
   "outputs": [],
   "source": [
    "data2_table = soup1.select('#_cs_production_type > div > div:nth-child(4) > div > div:nth-child(3) > div:nth-child(2) > div > table > tbody')"
   ]
  },
  {
   "cell_type": "code",
   "execution_count": 27,
   "id": "f9e1d74f",
   "metadata": {},
   "outputs": [
    {
     "name": "stdout",
     "output_type": "stream",
     "text": [
      "['서울', '경기', '대구', '인천', '부산', '경남', '경북', '충남', '검역', '대전', '강원', '충북', '울산', '광주', '전북', '제주']\n",
      "['76,245', '68,158', '13,192', '11,305', '10,999', '9,615', '6,802', '6,547', '5,738', '5,413', '5,242', '4,953', '3,997', '3,920', '3,396', '2,494']\n",
      "['675', '586', '101', '120', '86', '104', '71', '76', '12', '64', '46', '59', '38', '23', '40', '27']\n"
     ]
    }
   ],
   "source": [
    "for data in data2_table : \n",
    "    for i, a in enumerate(data.select('span')):\n",
    "        if i % 3 == 0:\n",
    "            name.append(a.text.strip())\n",
    "        elif i % 3 == 1 : \n",
    "            city_total.append(a.text.strip())\n",
    "        elif i % 3 == 2 : \n",
    "            city_new.append(a.text.strip())\n",
    "\n",
    "print(name)\n",
    "print(city_total)\n",
    "print(city_new)"
   ]
  },
  {
   "cell_type": "code",
   "execution_count": 28,
   "id": "8da94e8d",
   "metadata": {},
   "outputs": [],
   "source": [
    "data3 = driver.find_elements_by_css_selector('div > div:nth-child(4) > div > div:nth-child(3) > div.csp_paging_area._page_root > div > div > a.csp_pg_next._next.on')\n",
    "\n",
    "data3[0].click()"
   ]
  },
  {
   "cell_type": "code",
   "execution_count": 29,
   "id": "54968065",
   "metadata": {
    "scrolled": true
   },
   "outputs": [
    {
     "name": "stdout",
     "output_type": "stream",
     "text": [
      "['서울', '경기', '대구', '인천', '부산', '경남', '경북', '충남', '검역', '대전', '강원', '충북', '울산', '광주', '전북', '제주', '전남', '세종']\n",
      "['76,245', '68,158', '13,192', '11,305', '10,999', '9,615', '6,802', '6,547', '5,738', '5,413', '5,242', '4,953', '3,997', '3,920', '3,396', '2,494', '2,479', '944']\n",
      "['675', '586', '101', '120', '86', '104', '71', '76', '12', '64', '46', '59', '38', '23', '40', '27', '8', '16']\n"
     ]
    }
   ],
   "source": [
    "data3_table = soup1.select('#_cs_production_type > div > div:nth-child(4) > div > div:nth-child(3) > div:nth-child(3) > div > table > tbody')\n",
    "\n",
    "for data in data3_table : \n",
    "    for i, a in enumerate(data.select('span')):\n",
    "        if i % 3 == 0:\n",
    "            name.append(a.text.strip())\n",
    "        elif i % 3 == 1 : \n",
    "            city_total.append(a.text.strip())\n",
    "        elif i % 3 == 2 : \n",
    "            city_new.append(a.text.strip())\n",
    "\n",
    "print(name)\n",
    "print(city_total)\n",
    "print(city_new)"
   ]
  },
  {
   "cell_type": "code",
   "execution_count": 30,
   "id": "64b81d08",
   "metadata": {},
   "outputs": [],
   "source": [
    "dic = {\n",
    "    '지역' : name,\n",
    "    '누적확진자' : city_total,\n",
    "    '신규확진자' : city_new\n",
    "}"
   ]
  },
  {
   "cell_type": "code",
   "execution_count": 31,
   "id": "d26fb596",
   "metadata": {},
   "outputs": [],
   "source": [
    "import pandas as pd"
   ]
  },
  {
   "cell_type": "code",
   "execution_count": 32,
   "id": "362e5a3e",
   "metadata": {},
   "outputs": [],
   "source": [
    "df1 = pd.DataFrame(dic)"
   ]
  },
  {
   "cell_type": "code",
   "execution_count": 33,
   "id": "01cce0c5",
   "metadata": {},
   "outputs": [
    {
     "data": {
      "text/html": [
       "<div>\n",
       "<style scoped>\n",
       "    .dataframe tbody tr th:only-of-type {\n",
       "        vertical-align: middle;\n",
       "    }\n",
       "\n",
       "    .dataframe tbody tr th {\n",
       "        vertical-align: top;\n",
       "    }\n",
       "\n",
       "    .dataframe thead th {\n",
       "        text-align: right;\n",
       "    }\n",
       "</style>\n",
       "<table border=\"1\" class=\"dataframe\">\n",
       "  <thead>\n",
       "    <tr style=\"text-align: right;\">\n",
       "      <th></th>\n",
       "      <th>지역</th>\n",
       "      <th>누적확진자</th>\n",
       "      <th>신규확진자</th>\n",
       "    </tr>\n",
       "  </thead>\n",
       "  <tbody>\n",
       "    <tr>\n",
       "      <th>0</th>\n",
       "      <td>서울</td>\n",
       "      <td>76,245</td>\n",
       "      <td>675</td>\n",
       "    </tr>\n",
       "    <tr>\n",
       "      <th>1</th>\n",
       "      <td>경기</td>\n",
       "      <td>68,158</td>\n",
       "      <td>586</td>\n",
       "    </tr>\n",
       "    <tr>\n",
       "      <th>2</th>\n",
       "      <td>대구</td>\n",
       "      <td>13,192</td>\n",
       "      <td>101</td>\n",
       "    </tr>\n",
       "    <tr>\n",
       "      <th>3</th>\n",
       "      <td>인천</td>\n",
       "      <td>11,305</td>\n",
       "      <td>120</td>\n",
       "    </tr>\n",
       "    <tr>\n",
       "      <th>4</th>\n",
       "      <td>부산</td>\n",
       "      <td>10,999</td>\n",
       "      <td>86</td>\n",
       "    </tr>\n",
       "    <tr>\n",
       "      <th>5</th>\n",
       "      <td>경남</td>\n",
       "      <td>9,615</td>\n",
       "      <td>104</td>\n",
       "    </tr>\n",
       "    <tr>\n",
       "      <th>6</th>\n",
       "      <td>경북</td>\n",
       "      <td>6,802</td>\n",
       "      <td>71</td>\n",
       "    </tr>\n",
       "    <tr>\n",
       "      <th>7</th>\n",
       "      <td>충남</td>\n",
       "      <td>6,547</td>\n",
       "      <td>76</td>\n",
       "    </tr>\n",
       "    <tr>\n",
       "      <th>8</th>\n",
       "      <td>검역</td>\n",
       "      <td>5,738</td>\n",
       "      <td>12</td>\n",
       "    </tr>\n",
       "    <tr>\n",
       "      <th>9</th>\n",
       "      <td>대전</td>\n",
       "      <td>5,413</td>\n",
       "      <td>64</td>\n",
       "    </tr>\n",
       "    <tr>\n",
       "      <th>10</th>\n",
       "      <td>강원</td>\n",
       "      <td>5,242</td>\n",
       "      <td>46</td>\n",
       "    </tr>\n",
       "    <tr>\n",
       "      <th>11</th>\n",
       "      <td>충북</td>\n",
       "      <td>4,953</td>\n",
       "      <td>59</td>\n",
       "    </tr>\n",
       "    <tr>\n",
       "      <th>12</th>\n",
       "      <td>울산</td>\n",
       "      <td>3,997</td>\n",
       "      <td>38</td>\n",
       "    </tr>\n",
       "    <tr>\n",
       "      <th>13</th>\n",
       "      <td>광주</td>\n",
       "      <td>3,920</td>\n",
       "      <td>23</td>\n",
       "    </tr>\n",
       "    <tr>\n",
       "      <th>14</th>\n",
       "      <td>전북</td>\n",
       "      <td>3,396</td>\n",
       "      <td>40</td>\n",
       "    </tr>\n",
       "    <tr>\n",
       "      <th>15</th>\n",
       "      <td>제주</td>\n",
       "      <td>2,494</td>\n",
       "      <td>27</td>\n",
       "    </tr>\n",
       "    <tr>\n",
       "      <th>16</th>\n",
       "      <td>전남</td>\n",
       "      <td>2,479</td>\n",
       "      <td>8</td>\n",
       "    </tr>\n",
       "    <tr>\n",
       "      <th>17</th>\n",
       "      <td>세종</td>\n",
       "      <td>944</td>\n",
       "      <td>16</td>\n",
       "    </tr>\n",
       "  </tbody>\n",
       "</table>\n",
       "</div>"
      ],
      "text/plain": [
       "    지역   누적확진자 신규확진자\n",
       "0   서울  76,245   675\n",
       "1   경기  68,158   586\n",
       "2   대구  13,192   101\n",
       "3   인천  11,305   120\n",
       "4   부산  10,999    86\n",
       "5   경남   9,615   104\n",
       "6   경북   6,802    71\n",
       "7   충남   6,547    76\n",
       "8   검역   5,738    12\n",
       "9   대전   5,413    64\n",
       "10  강원   5,242    46\n",
       "11  충북   4,953    59\n",
       "12  울산   3,997    38\n",
       "13  광주   3,920    23\n",
       "14  전북   3,396    40\n",
       "15  제주   2,494    27\n",
       "16  전남   2,479     8\n",
       "17  세종     944    16"
      ]
     },
     "execution_count": 33,
     "metadata": {},
     "output_type": "execute_result"
    }
   ],
   "source": [
    "df1"
   ]
  },
  {
   "cell_type": "code",
   "execution_count": 34,
   "id": "24a97561",
   "metadata": {},
   "outputs": [],
   "source": [
    "df1.to_excel('./making/covid_city.xlsx', index = False)"
   ]
  },
  {
   "cell_type": "code",
   "execution_count": null,
   "id": "05c0a027",
   "metadata": {},
   "outputs": [],
   "source": []
  },
  {
   "cell_type": "code",
   "execution_count": null,
   "id": "91e8294a",
   "metadata": {},
   "outputs": [],
   "source": []
  }
 ],
 "metadata": {
  "kernelspec": {
   "display_name": "Python 3",
   "language": "python",
   "name": "python3"
  },
  "language_info": {
   "codemirror_mode": {
    "name": "ipython",
    "version": 3
   },
   "file_extension": ".py",
   "mimetype": "text/x-python",
   "name": "python",
   "nbconvert_exporter": "python",
   "pygments_lexer": "ipython3",
   "version": "3.7.11"
  }
 },
 "nbformat": 4,
 "nbformat_minor": 5
}
