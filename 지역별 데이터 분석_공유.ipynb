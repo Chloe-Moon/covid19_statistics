{
 "cells": [
  {
   "cell_type": "code",
   "execution_count": 2,
   "id": "06e4543c",
   "metadata": {},
   "outputs": [],
   "source": [
    "import pandas as pd"
   ]
  },
  {
   "cell_type": "code",
   "execution_count": 3,
   "id": "393af912",
   "metadata": {},
   "outputs": [],
   "source": [
    "df = pd.read_excel('./making/covid_city.xlsx')"
   ]
  },
  {
   "cell_type": "code",
   "execution_count": 4,
   "id": "53217b9a",
   "metadata": {},
   "outputs": [
    {
     "name": "stdout",
     "output_type": "stream",
     "text": [
      "<class 'pandas.core.frame.DataFrame'>\n",
      "RangeIndex: 18 entries, 0 to 17\n",
      "Data columns (total 3 columns):\n",
      " #   Column  Non-Null Count  Dtype \n",
      "---  ------  --------------  ----- \n",
      " 0   지역      18 non-null     object\n",
      " 1   누적확진자   18 non-null     int64 \n",
      " 2   신규확진자   18 non-null     int64 \n",
      "dtypes: int64(2), object(1)\n",
      "memory usage: 560.0+ bytes\n"
     ]
    }
   ],
   "source": [
    "df.info()"
   ]
  },
  {
   "cell_type": "code",
   "execution_count": 5,
   "id": "ede65d09",
   "metadata": {},
   "outputs": [
    {
     "data": {
      "text/html": [
       "<div>\n",
       "<style scoped>\n",
       "    .dataframe tbody tr th:only-of-type {\n",
       "        vertical-align: middle;\n",
       "    }\n",
       "\n",
       "    .dataframe tbody tr th {\n",
       "        vertical-align: top;\n",
       "    }\n",
       "\n",
       "    .dataframe thead th {\n",
       "        text-align: right;\n",
       "    }\n",
       "</style>\n",
       "<table border=\"1\" class=\"dataframe\">\n",
       "  <thead>\n",
       "    <tr style=\"text-align: right;\">\n",
       "      <th></th>\n",
       "      <th>지역</th>\n",
       "      <th>누적확진자</th>\n",
       "      <th>신규확진자</th>\n",
       "    </tr>\n",
       "  </thead>\n",
       "  <tbody>\n",
       "    <tr>\n",
       "      <th>0</th>\n",
       "      <td>서울</td>\n",
       "      <td>76814</td>\n",
       "      <td>569</td>\n",
       "    </tr>\n",
       "    <tr>\n",
       "      <th>1</th>\n",
       "      <td>경기</td>\n",
       "      <td>68671</td>\n",
       "      <td>513</td>\n",
       "    </tr>\n",
       "    <tr>\n",
       "      <th>2</th>\n",
       "      <td>대구</td>\n",
       "      <td>13287</td>\n",
       "      <td>95</td>\n",
       "    </tr>\n",
       "    <tr>\n",
       "      <th>3</th>\n",
       "      <td>인천</td>\n",
       "      <td>11406</td>\n",
       "      <td>102</td>\n",
       "    </tr>\n",
       "    <tr>\n",
       "      <th>4</th>\n",
       "      <td>부산</td>\n",
       "      <td>11077</td>\n",
       "      <td>78</td>\n",
       "    </tr>\n",
       "    <tr>\n",
       "      <th>5</th>\n",
       "      <td>경남</td>\n",
       "      <td>9683</td>\n",
       "      <td>68</td>\n",
       "    </tr>\n",
       "    <tr>\n",
       "      <th>6</th>\n",
       "      <td>경북</td>\n",
       "      <td>6866</td>\n",
       "      <td>64</td>\n",
       "    </tr>\n",
       "    <tr>\n",
       "      <th>7</th>\n",
       "      <td>충남</td>\n",
       "      <td>6639</td>\n",
       "      <td>92</td>\n",
       "    </tr>\n",
       "    <tr>\n",
       "      <th>8</th>\n",
       "      <td>검역</td>\n",
       "      <td>5761</td>\n",
       "      <td>23</td>\n",
       "    </tr>\n",
       "    <tr>\n",
       "      <th>9</th>\n",
       "      <td>대전</td>\n",
       "      <td>5463</td>\n",
       "      <td>50</td>\n",
       "    </tr>\n",
       "    <tr>\n",
       "      <th>10</th>\n",
       "      <td>강원</td>\n",
       "      <td>5268</td>\n",
       "      <td>26</td>\n",
       "    </tr>\n",
       "    <tr>\n",
       "      <th>11</th>\n",
       "      <td>충북</td>\n",
       "      <td>4991</td>\n",
       "      <td>38</td>\n",
       "    </tr>\n",
       "    <tr>\n",
       "      <th>12</th>\n",
       "      <td>울산</td>\n",
       "      <td>4037</td>\n",
       "      <td>40</td>\n",
       "    </tr>\n",
       "    <tr>\n",
       "      <th>13</th>\n",
       "      <td>광주</td>\n",
       "      <td>3948</td>\n",
       "      <td>28</td>\n",
       "    </tr>\n",
       "    <tr>\n",
       "      <th>14</th>\n",
       "      <td>전북</td>\n",
       "      <td>3441</td>\n",
       "      <td>45</td>\n",
       "    </tr>\n",
       "    <tr>\n",
       "      <th>15</th>\n",
       "      <td>제주</td>\n",
       "      <td>2524</td>\n",
       "      <td>30</td>\n",
       "    </tr>\n",
       "    <tr>\n",
       "      <th>16</th>\n",
       "      <td>전남</td>\n",
       "      <td>2487</td>\n",
       "      <td>8</td>\n",
       "    </tr>\n",
       "    <tr>\n",
       "      <th>17</th>\n",
       "      <td>세종</td>\n",
       "      <td>954</td>\n",
       "      <td>10</td>\n",
       "    </tr>\n",
       "  </tbody>\n",
       "</table>\n",
       "</div>"
      ],
      "text/plain": [
       "    지역  누적확진자  신규확진자\n",
       "0   서울  76814    569\n",
       "1   경기  68671    513\n",
       "2   대구  13287     95\n",
       "3   인천  11406    102\n",
       "4   부산  11077     78\n",
       "5   경남   9683     68\n",
       "6   경북   6866     64\n",
       "7   충남   6639     92\n",
       "8   검역   5761     23\n",
       "9   대전   5463     50\n",
       "10  강원   5268     26\n",
       "11  충북   4991     38\n",
       "12  울산   4037     40\n",
       "13  광주   3948     28\n",
       "14  전북   3441     45\n",
       "15  제주   2524     30\n",
       "16  전남   2487      8\n",
       "17  세종    954     10"
      ]
     },
     "execution_count": 5,
     "metadata": {},
     "output_type": "execute_result"
    }
   ],
   "source": [
    "df"
   ]
  },
  {
   "cell_type": "code",
   "execution_count": null,
   "id": "d6689358",
   "metadata": {},
   "outputs": [],
   "source": []
  },
  {
   "cell_type": "markdown",
   "id": "13e7459c",
   "metadata": {},
   "source": [
    "# 시각화를 위해 데이터 df 만들기"
   ]
  },
  {
   "cell_type": "code",
   "execution_count": 73,
   "id": "ae0465bd",
   "metadata": {},
   "outputs": [],
   "source": [
    "# 검역 제거\n",
    "df2 = df[df['지역']!= '검역']\n",
    "df2.reset_index(drop = True)"
   ]
  },
  {
   "cell_type": "code",
   "execution_count": 75,
   "id": "428aeebf",
   "metadata": {},
   "outputs": [],
   "source": [
    "# 광주 -> 광주광역시\n",
    "df2 = df2.replace('광주','광주광역시')"
   ]
  },
  {
   "cell_type": "code",
   "execution_count": 66,
   "id": "c84a278d",
   "metadata": {},
   "outputs": [],
   "source": [
    "cities = df2['지역'].values"
   ]
  },
  {
   "cell_type": "code",
   "execution_count": 76,
   "id": "66f406a6",
   "metadata": {},
   "outputs": [
    {
     "data": {
      "text/plain": [
       "17"
      ]
     },
     "execution_count": 76,
     "metadata": {},
     "output_type": "execute_result"
    }
   ],
   "source": [
    "len(cities)"
   ]
  },
  {
   "cell_type": "markdown",
   "id": "4c6c0835",
   "metadata": {},
   "source": [
    "# 카카오 API 이용하기"
   ]
  },
  {
   "cell_type": "code",
   "execution_count": 68,
   "id": "de7823cc",
   "metadata": {},
   "outputs": [],
   "source": [
    "import requests"
   ]
  },
  {
   "cell_type": "code",
   "execution_count": 69,
   "id": "7d49122a",
   "metadata": {},
   "outputs": [],
   "source": [
    "places = []"
   ]
  },
  {
   "cell_type": "code",
   "execution_count": 70,
   "id": "2589e9a5",
   "metadata": {},
   "outputs": [],
   "source": [
    "for city in cities:\n",
    "    searching = city\n",
    "    url = 'https://dapi.kakao.com/v2/local/search/address.json?query={}'.format(searching)\n",
    "\n",
    "    headers = {\n",
    "        \"Authorization\": \"KakaoAK 50b490bd64fefad5a4611cd9294fd813\"\n",
    "    }\n",
    "\n",
    "    places.extend(requests.get(url, headers = headers).json()['documents'])\n",
    "    "
   ]
  },
  {
   "cell_type": "code",
   "execution_count": 74,
   "id": "296cbc39",
   "metadata": {},
   "outputs": [
    {
     "data": {
      "text/plain": [
       "17"
      ]
     },
     "execution_count": 74,
     "metadata": {},
     "output_type": "execute_result"
    }
   ],
   "source": [
    "len(places)"
   ]
  },
  {
   "cell_type": "markdown",
   "id": "1f90e40a",
   "metadata": {},
   "source": [
    "### 샘플로 주소 검색 맛보기"
   ]
  },
  {
   "cell_type": "code",
   "execution_count": 20,
   "id": "a8b480bf",
   "metadata": {
    "scrolled": false
   },
   "outputs": [
    {
     "data": {
      "text/plain": [
       "[{'address': {'address_name': '서울',\n",
       "   'b_code': '1100000000',\n",
       "   'h_code': '1100000000',\n",
       "   'main_address_no': '',\n",
       "   'mountain_yn': 'N',\n",
       "   'region_1depth_name': '서울',\n",
       "   'region_2depth_name': '',\n",
       "   'region_3depth_h_name': '',\n",
       "   'region_3depth_name': '',\n",
       "   'sub_address_no': '',\n",
       "   'x': '126.978652258309',\n",
       "   'y': '37.566826004661'},\n",
       "  'address_name': '서울',\n",
       "  'address_type': 'REGION',\n",
       "  'road_address': None,\n",
       "  'x': '126.978652258309',\n",
       "  'y': '37.566826004661'}]"
      ]
     },
     "execution_count": 20,
     "metadata": {},
     "output_type": "execute_result"
    }
   ],
   "source": [
    "searching_sample = '서울'\n",
    "url = 'https://dapi.kakao.com/v2/local/search/address.json?query={}'.format(searching_sample)\n",
    "\n",
    "headers = {\n",
    "    \"Authorization\": \"KakaoAK 50b490bd64fefad5a4611cd9294fd813\"     \n",
    "    # 입력시 반드시  KakaoAK 뒤에 한 칸 띄우고 API키 값을 적어야 합니다. \n",
    "}\n",
    "\n",
    "places_sample = requests.get(url, headers = headers).json()['documents']\n",
    "places_sample"
   ]
  }
 ],
 "metadata": {
  "kernelspec": {
   "display_name": "Python 3",
   "language": "python",
   "name": "python3"
  },
  "language_info": {
   "codemirror_mode": {
    "name": "ipython",
    "version": 3
   },
   "file_extension": ".py",
   "mimetype": "text/x-python",
   "name": "python",
   "nbconvert_exporter": "python",
   "pygments_lexer": "ipython3",
   "version": "3.7.11"
  }
 },
 "nbformat": 4,
 "nbformat_minor": 5
}
