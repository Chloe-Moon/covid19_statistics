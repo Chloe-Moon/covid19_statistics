{
 "cells": [
  {
   "cell_type": "code",
   "execution_count": 1,
   "id": "1648030e",
   "metadata": {},
   "outputs": [],
   "source": [
    "from selenium import webdriver"
   ]
  },
  {
   "cell_type": "code",
   "execution_count": 2,
   "id": "a964ae19",
   "metadata": {},
   "outputs": [],
   "source": [
    "driver = webdriver.Chrome('C:/playwithdata/chromedriver.exe')\n",
    "\n",
    "url = 'https://search.naver.com/search.naver?where=nexearch&sm=top_hty&fbm=1&ie=utf8&query=%EC%BD%94%EB%A1%9C%EB%82%98+%ED%98%84%ED%99%A9'\n",
    "driver.get(url)"
   ]
  },
  {
   "cell_type": "code",
   "execution_count": 3,
   "id": "22c6fa89",
   "metadata": {},
   "outputs": [],
   "source": [
    "from bs4 import BeautifulSoup\n",
    "\n",
    "html = driver.page_source\n",
    "soup = BeautifulSoup(html,'html.parser')\n",
    "\n",
    "#data = soup.select('div.data > dl > div')"
   ]
  },
  {
   "cell_type": "code",
   "execution_count": 4,
   "id": "14920838",
   "metadata": {},
   "outputs": [],
   "source": [
    "data = driver.find_elements_by_css_selector('div.column._column')\n",
    "dates = []\n",
    "today_total = []\n",
    "local = []\n",
    "oversea = []\n",
    "\n",
    "for today in data:\n",
    "    today.click()\n",
    "    html2 = driver.page_source\n",
    "    soup2 = BeautifulSoup(html2,'html.parser')\n",
    "    data2 = soup2.select('div.tooltip_area._tooltip_wrapper > dl > div')\n",
    "    dates.append(data2[0].select('dd')[0].text)\n",
    "    today_total.append(data2[0].select('dd')[1].text)\n",
    "    local.append(data2[1].select('dd')[0].text)\n",
    "    oversea.append(data2[1].select('dd')[1].text)"
   ]
  },
  {
   "cell_type": "code",
   "execution_count": 5,
   "id": "778c7a98",
   "metadata": {},
   "outputs": [
    {
     "data": {
      "text/plain": [
       "['38', '51', '66', '38', '48', '39', '41']"
      ]
     },
     "execution_count": 5,
     "metadata": {},
     "output_type": "execute_result"
    }
   ],
   "source": [
    "dates\n",
    "\n",
    "today_total\n",
    "\n",
    "local\n",
    "\n",
    "oversea"
   ]
  },
  {
   "cell_type": "code",
   "execution_count": 6,
   "id": "790d05fb",
   "metadata": {},
   "outputs": [],
   "source": [
    "# , 문자 제거해서 int형으로 만들 수 있게 만들기\n",
    "for i in range(len(today_total)):\n",
    "    today_total[i] = today_total[i].replace(',',\"\")    \n",
    "    local[i] = local[i].replace(',',\"\")\n",
    "    oversea[i] = oversea[i].replace(',',\"\")"
   ]
  },
  {
   "cell_type": "code",
   "execution_count": 7,
   "id": "f1201298",
   "metadata": {
    "scrolled": true
   },
   "outputs": [
    {
     "name": "stdout",
     "output_type": "stream",
     "text": [
      "['2152', '2050', '1879', '1626', '1417', '1508', '2155']\n",
      "['2114', '1999', '1813', '1588', '1369', '1469', '2114']\n",
      "['38', '51', '66', '38', '48', '39', '41']\n"
     ]
    }
   ],
   "source": [
    "print(today_total)\n",
    "print(local)\n",
    "print(oversea)"
   ]
  },
  {
   "cell_type": "code",
   "execution_count": 14,
   "id": "69b5aeda",
   "metadata": {},
   "outputs": [
    {
     "name": "stdout",
     "output_type": "stream",
     "text": [
      "[2152, 2050, 1879, 1626, 1417, 1508, 2155]\n",
      "[2114, 1999, 1813, 1588, 1369, 1469, 2114]\n",
      "[38, 51, 66, 38, 48, 39, 41]\n"
     ]
    }
   ],
   "source": [
    "today_total = list(map(int, today_total))\n",
    "local = list(map(int, local))\n",
    "oversea = list(map(int, oversea))\n",
    "\n",
    "print(today_total)\n",
    "print(local)\n",
    "print(oversea)"
   ]
  },
  {
   "cell_type": "code",
   "execution_count": 15,
   "id": "38a74751",
   "metadata": {},
   "outputs": [],
   "source": [
    "import pandas as pd"
   ]
  },
  {
   "cell_type": "code",
   "execution_count": 16,
   "id": "36e1ead5",
   "metadata": {},
   "outputs": [],
   "source": [
    "dic = {\n",
    "    '날짜' : dates,\n",
    "    '신규합계' : today_total,\n",
    "    '국내발생' : local,\n",
    "    '해외유입' : oversea\n",
    "}"
   ]
  },
  {
   "cell_type": "code",
   "execution_count": 17,
   "id": "a8bf5889",
   "metadata": {},
   "outputs": [],
   "source": [
    "df = pd.DataFrame(dic)"
   ]
  },
  {
   "cell_type": "code",
   "execution_count": 18,
   "id": "919fd29e",
   "metadata": {},
   "outputs": [
    {
     "data": {
      "text/html": [
       "<div>\n",
       "<style scoped>\n",
       "    .dataframe tbody tr th:only-of-type {\n",
       "        vertical-align: middle;\n",
       "    }\n",
       "\n",
       "    .dataframe tbody tr th {\n",
       "        vertical-align: top;\n",
       "    }\n",
       "\n",
       "    .dataframe thead th {\n",
       "        text-align: right;\n",
       "    }\n",
       "</style>\n",
       "<table border=\"1\" class=\"dataframe\">\n",
       "  <thead>\n",
       "    <tr style=\"text-align: right;\">\n",
       "      <th></th>\n",
       "      <th>날짜</th>\n",
       "      <th>신규합계</th>\n",
       "      <th>국내발생</th>\n",
       "      <th>해외유입</th>\n",
       "    </tr>\n",
       "  </thead>\n",
       "  <tbody>\n",
       "    <tr>\n",
       "      <th>0</th>\n",
       "      <td>8.18</td>\n",
       "      <td>2152</td>\n",
       "      <td>2114</td>\n",
       "      <td>38</td>\n",
       "    </tr>\n",
       "    <tr>\n",
       "      <th>1</th>\n",
       "      <td>8.19</td>\n",
       "      <td>2050</td>\n",
       "      <td>1999</td>\n",
       "      <td>51</td>\n",
       "    </tr>\n",
       "    <tr>\n",
       "      <th>2</th>\n",
       "      <td>8.20</td>\n",
       "      <td>1879</td>\n",
       "      <td>1813</td>\n",
       "      <td>66</td>\n",
       "    </tr>\n",
       "    <tr>\n",
       "      <th>3</th>\n",
       "      <td>8.21</td>\n",
       "      <td>1626</td>\n",
       "      <td>1588</td>\n",
       "      <td>38</td>\n",
       "    </tr>\n",
       "    <tr>\n",
       "      <th>4</th>\n",
       "      <td>8.22</td>\n",
       "      <td>1417</td>\n",
       "      <td>1369</td>\n",
       "      <td>48</td>\n",
       "    </tr>\n",
       "    <tr>\n",
       "      <th>5</th>\n",
       "      <td>8.23</td>\n",
       "      <td>1508</td>\n",
       "      <td>1469</td>\n",
       "      <td>39</td>\n",
       "    </tr>\n",
       "    <tr>\n",
       "      <th>6</th>\n",
       "      <td>8.24</td>\n",
       "      <td>2155</td>\n",
       "      <td>2114</td>\n",
       "      <td>41</td>\n",
       "    </tr>\n",
       "  </tbody>\n",
       "</table>\n",
       "</div>"
      ],
      "text/plain": [
       "     날짜  신규합계  국내발생  해외유입\n",
       "0  8.18  2152  2114    38\n",
       "1  8.19  2050  1999    51\n",
       "2  8.20  1879  1813    66\n",
       "3  8.21  1626  1588    38\n",
       "4  8.22  1417  1369    48\n",
       "5  8.23  1508  1469    39\n",
       "6  8.24  2155  2114    41"
      ]
     },
     "execution_count": 18,
     "metadata": {},
     "output_type": "execute_result"
    }
   ],
   "source": [
    "df"
   ]
  },
  {
   "cell_type": "code",
   "execution_count": 19,
   "id": "74d73c36",
   "metadata": {},
   "outputs": [
    {
     "name": "stdout",
     "output_type": "stream",
     "text": [
      "<class 'pandas.core.frame.DataFrame'>\n",
      "RangeIndex: 7 entries, 0 to 6\n",
      "Data columns (total 4 columns):\n",
      " #   Column  Non-Null Count  Dtype \n",
      "---  ------  --------------  ----- \n",
      " 0   날짜      7 non-null      object\n",
      " 1   신규합계    7 non-null      int64 \n",
      " 2   국내발생    7 non-null      int64 \n",
      " 3   해외유입    7 non-null      int64 \n",
      "dtypes: int64(3), object(1)\n",
      "memory usage: 352.0+ bytes\n"
     ]
    }
   ],
   "source": [
    "df.info()"
   ]
  },
  {
   "cell_type": "code",
   "execution_count": 20,
   "id": "1224c4a8",
   "metadata": {},
   "outputs": [],
   "source": [
    "df.to_excel('./making/covid_7days.xlsx',index = False)"
   ]
  },
  {
   "cell_type": "code",
   "execution_count": null,
   "id": "72b84f0a",
   "metadata": {},
   "outputs": [],
   "source": []
  },
  {
   "cell_type": "code",
   "execution_count": 149,
   "id": "6d311028",
   "metadata": {},
   "outputs": [],
   "source": [
    "import matplotlib.pyplot as plt"
   ]
  },
  {
   "cell_type": "code",
   "execution_count": null,
   "id": "7004dee8",
   "metadata": {},
   "outputs": [],
   "source": [
    "plt.plot(df[])"
   ]
  },
  {
   "cell_type": "code",
   "execution_count": null,
   "id": "9eed6339",
   "metadata": {},
   "outputs": [],
   "source": []
  },
  {
   "cell_type": "code",
   "execution_count": null,
   "id": "adf1cd82",
   "metadata": {},
   "outputs": [],
   "source": [
    "df2 = pd.read_excel('./making/covid_7days.xlsx',index = False)"
   ]
  },
  {
   "cell_type": "code",
   "execution_count": 21,
   "id": "9b5b2477",
   "metadata": {},
   "outputs": [],
   "source": [
    "import pymysql"
   ]
  },
  {
   "cell_type": "code",
   "execution_count": null,
   "id": "491a49ce",
   "metadata": {},
   "outputs": [],
   "source": [
    "conn = pymysql.connect(host='localhost', user='root', password='1234', db='project1')\n",
    "curs = conn.cursor(pymysql.cursors.DictCursor)"
   ]
  },
  {
   "cell_type": "code",
   "execution_count": null,
   "id": "50d329cf",
   "metadata": {},
   "outputs": [],
   "source": [
    "k_table = 'create table if not exists db_score(sno int primary key, midterm float, final float)'\n",
    "cusr.execute(mk_table)\n",
    "\n",
    "sql = 'insert into db_score (sno, midterm, final) values(%s, %s, %s)'\n",
    "for idx in range(len(data)):\n",
    "\tcurs.execute(sql, tuple(data.values[idx]))\n",
    "conn.commit()\n",
    "\n",
    "#종료\n",
    "curs.close()"
   ]
  },
  {
   "cell_type": "code",
   "execution_count": null,
   "id": "1b722e4e",
   "metadata": {},
   "outputs": [],
   "source": []
  },
  {
   "cell_type": "code",
   "execution_count": null,
   "id": "7fab0f8f",
   "metadata": {},
   "outputs": [],
   "source": []
  },
  {
   "cell_type": "code",
   "execution_count": null,
   "id": "3be6c18c",
   "metadata": {},
   "outputs": [],
   "source": []
  },
  {
   "cell_type": "code",
   "execution_count": null,
   "id": "8e2eb1cc",
   "metadata": {},
   "outputs": [],
   "source": []
  },
  {
   "cell_type": "markdown",
   "id": "61b0f5cd",
   "metadata": {},
   "source": [
    "코드 보관"
   ]
  },
  {
   "cell_type": "code",
   "execution_count": 106,
   "id": "b7c76965",
   "metadata": {},
   "outputs": [],
   "source": [
    "data2 = soup2.select('div.tooltip_area._tooltip_wrapper > dl > div')"
   ]
  },
  {
   "cell_type": "code",
   "execution_count": 124,
   "id": "00693fa5",
   "metadata": {},
   "outputs": [
    {
     "name": "stdout",
     "output_type": "stream",
     "text": [
      "8.18\n",
      "2,152\n"
     ]
    }
   ],
   "source": [
    "print(data2[0].select('dd')[0].text) # 날짜\n",
    "print(data2[0].select('dd')[1].text)# 총합수"
   ]
  }
 ],
 "metadata": {
  "kernelspec": {
   "display_name": "Python 3",
   "language": "python",
   "name": "python3"
  },
  "language_info": {
   "codemirror_mode": {
    "name": "ipython",
    "version": 3
   },
   "file_extension": ".py",
   "mimetype": "text/x-python",
   "name": "python",
   "nbconvert_exporter": "python",
   "pygments_lexer": "ipython3",
   "version": "3.7.11"
  }
 },
 "nbformat": 4,
 "nbformat_minor": 5
}
